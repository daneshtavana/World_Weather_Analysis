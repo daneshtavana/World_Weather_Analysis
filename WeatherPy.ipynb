{
 "cells": [
  {
   "cell_type": "markdown",
   "metadata": {},
   "source": [
    "Lesson 6.1.4 Create Latitude and Longitude Combinations"
   ]
  },
  {
   "cell_type": "code",
   "execution_count": 1,
   "metadata": {},
   "outputs": [],
   "source": [
    "# Import the dependencies.\n",
    "import pandas as pd\n",
    "import matplotlib.pyplot as plt\n",
    "import numpy as np"
   ]
  },
  {
   "cell_type": "code",
   "execution_count": 2,
   "metadata": {},
   "outputs": [],
   "source": [
    "# Create a set of random latitude and longitude combinations.\n",
    "lats = np.random.uniform(low=-90.000, high=90.000, size=1500)\n",
    "lngs = np.random.uniform(low=-180.000, high=180.000, size=1500)\n",
    "lat_lngs = zip(lats, lngs)\n",
    "#type(lats)\n",
    "#type(lat_lngs)"
   ]
  },
  {
   "cell_type": "code",
   "execution_count": 3,
   "metadata": {},
   "outputs": [],
   "source": [
    "# Add the latitudes and longitudes to a list.\n",
    "coordinates = list(lat_lngs)\n",
    "#type(coordinates)"
   ]
  },
  {
   "cell_type": "markdown",
   "metadata": {},
   "source": [
    "Lesson 6.1.5 Generate Random World Cities"
   ]
  },
  {
   "cell_type": "code",
   "execution_count": 4,
   "metadata": {},
   "outputs": [],
   "source": [
    "# Use the citipy module to determine city based on latitude and longitude.\n",
    "from citipy import citipy"
   ]
  },
  {
   "cell_type": "code",
   "execution_count": 5,
   "metadata": {},
   "outputs": [
    {
     "data": {
      "text/plain": [
       "604"
      ]
     },
     "execution_count": 5,
     "metadata": {},
     "output_type": "execute_result"
    }
   ],
   "source": [
    "# Create a list for holding the cities.\n",
    "cities = []\n",
    "# Identify the nearest city for each latitude and longitude combination.\n",
    "for coordinate in coordinates:\n",
    "    city = citipy.nearest_city(coordinate[0], coordinate[1]).city_name\n",
    "    #country = citipy.nearest_city(coordinate[0], coordinate[1]).country_code\n",
    "    # If the city is unique, then we will add it to the cities list.\n",
    "    if city not in cities:\n",
    "        cities.append(city)\n",
    "# Print the city count to confirm sufficient count.\n",
    "len(cities)"
   ]
  },
  {
   "cell_type": "code",
   "execution_count": 6,
   "metadata": {},
   "outputs": [],
   "source": [
    "# Import the requests library.\n",
    "import requests\n",
    "\n",
    "# Import the API key.\n",
    "from config import weather_api_key"
   ]
  },
  {
   "cell_type": "code",
   "execution_count": 7,
   "metadata": {},
   "outputs": [
    {
     "name": "stdout",
     "output_type": "stream",
     "text": [
      "http://api.openweathermap.org/data/2.5/weather?units=Imperial&APPID=ee665a25356ae395168c7430eaefc45b\n"
     ]
    }
   ],
   "source": [
    "# Starting URL for Weather Map API Call.\n",
    "url = \"http://api.openweathermap.org/data/2.5/weather?units=Imperial&APPID=\" + weather_api_key\n",
    "print(url)"
   ]
  },
  {
   "cell_type": "code",
   "execution_count": 8,
   "metadata": {},
   "outputs": [
    {
     "name": "stdout",
     "output_type": "stream",
     "text": [
      "http://api.openweathermap.org/data/2.5/weather?units=Imperial&APPID=ee665a25356ae395168c7430eaefc45b&q=Boston\n"
     ]
    }
   ],
   "source": [
    "# Create an endpoint URL for a city.\n",
    "city_url = url + \"&q=\" + \"Boston\"\n",
    "print(city_url)"
   ]
  },
  {
   "cell_type": "markdown",
   "metadata": {},
   "source": [
    "Lesson 6.2.4 Make a Request for Data to an API"
   ]
  },
  {
   "cell_type": "code",
   "execution_count": 9,
   "metadata": {},
   "outputs": [
    {
     "data": {
      "text/plain": [
       "<Response [200]>"
      ]
     },
     "execution_count": 9,
     "metadata": {},
     "output_type": "execute_result"
    }
   ],
   "source": [
    "# Make a 'Get' request for the city weather.\n",
    "city_weather = requests.get(city_url)\n",
    "city_weather"
   ]
  },
  {
   "cell_type": "code",
   "execution_count": 10,
   "metadata": {},
   "outputs": [
    {
     "data": {
      "text/plain": [
       "200"
      ]
     },
     "execution_count": 10,
     "metadata": {},
     "output_type": "execute_result"
    }
   ],
   "source": [
    "city_weather.status_code"
   ]
  },
  {
   "cell_type": "code",
   "execution_count": 11,
   "metadata": {},
   "outputs": [
    {
     "data": {
      "text/plain": [
       "'{\"coord\":{\"lon\":-71.06,\"lat\":42.36},\"weather\":[{\"id\":800,\"main\":\"Clear\",\"description\":\"clear sky\",\"icon\":\"01d\"}],\"base\":\"stations\",\"main\":{\"temp\":85.93,\"feels_like\":84.45,\"temp_min\":82,\"temp_max\":91,\"pressure\":1014,\"humidity\":54},\"visibility\":16093,\"wind\":{\"speed\":13.87,\"deg\":120},\"clouds\":{\"all\":1},\"dt\":1592771469,\"sys\":{\"type\":1,\"id\":3486,\"country\":\"US\",\"sunrise\":1592730456,\"sunset\":1592785477},\"timezone\":-14400,\"id\":4930956,\"name\":\"Boston\",\"cod\":200}'"
      ]
     },
     "execution_count": 11,
     "metadata": {},
     "output_type": "execute_result"
    }
   ],
   "source": [
    "city_weather.text"
   ]
  },
  {
   "cell_type": "code",
   "execution_count": 12,
   "metadata": {},
   "outputs": [
    {
     "data": {
      "text/plain": [
       "requests.models.Response"
      ]
     },
     "execution_count": 12,
     "metadata": {},
     "output_type": "execute_result"
    }
   ],
   "source": [
    "type(city_weather)"
   ]
  },
  {
   "cell_type": "code",
   "execution_count": 13,
   "metadata": {},
   "outputs": [
    {
     "data": {
      "text/plain": [
       "{'coord': {'lon': -71.06, 'lat': 42.36},\n",
       " 'weather': [{'id': 800,\n",
       "   'main': 'Clear',\n",
       "   'description': 'clear sky',\n",
       "   'icon': '01d'}],\n",
       " 'base': 'stations',\n",
       " 'main': {'temp': 85.93,\n",
       "  'feels_like': 84.45,\n",
       "  'temp_min': 82,\n",
       "  'temp_max': 91,\n",
       "  'pressure': 1014,\n",
       "  'humidity': 54},\n",
       " 'visibility': 16093,\n",
       " 'wind': {'speed': 13.87, 'deg': 120},\n",
       " 'clouds': {'all': 1},\n",
       " 'dt': 1592771469,\n",
       " 'sys': {'type': 1,\n",
       "  'id': 3486,\n",
       "  'country': 'US',\n",
       "  'sunrise': 1592730456,\n",
       "  'sunset': 1592785477},\n",
       " 'timezone': -14400,\n",
       " 'id': 4930956,\n",
       " 'name': 'Boston',\n",
       " 'cod': 200}"
      ]
     },
     "execution_count": 13,
     "metadata": {},
     "output_type": "execute_result"
    }
   ],
   "source": [
    "city_weather.json()"
   ]
  },
  {
   "cell_type": "markdown",
   "metadata": {},
   "source": [
    "Handle Request Errors"
   ]
  },
  {
   "cell_type": "code",
   "execution_count": 14,
   "metadata": {},
   "outputs": [
    {
     "name": "stdout",
     "output_type": "stream",
     "text": [
      "City Weather found.\n"
     ]
    }
   ],
   "source": [
    "# Create an endpoint URL for a city.\n",
    "city_url = url + \"&q=\" + \"Boston\"\n",
    "city_weather = requests.get(city_url)\n",
    "if city_weather.status_code == 200:\n",
    "    print(f\"City Weather found.\")\n",
    "else:\n",
    "    print(f\"City weather not found.\")"
   ]
  },
  {
   "cell_type": "code",
   "execution_count": 15,
   "metadata": {},
   "outputs": [
    {
     "name": "stdout",
     "output_type": "stream",
     "text": [
      "City Weather found.\n"
     ]
    }
   ],
   "source": [
    "# Create an endpoint URL for a city.\n",
    "city_url = url + \"&q=\" + \"Bstn\"\n",
    "city_weather = requests.get(city_url)\n",
    "if city_weather.json():\n",
    "    print(f\"City Weather found.\")\n",
    "else:\n",
    "    print(f\"City weather not found.\")"
   ]
  },
  {
   "cell_type": "markdown",
   "metadata": {},
   "source": [
    "Lesson 6.2.5 Make a Request for Data to an API"
   ]
  },
  {
   "cell_type": "code",
   "execution_count": 16,
   "metadata": {},
   "outputs": [
    {
     "data": {
      "text/plain": [
       "{'coord': {'lon': -71.06, 'lat': 42.36},\n",
       " 'weather': [{'id': 800,\n",
       "   'main': 'Clear',\n",
       "   'description': 'clear sky',\n",
       "   'icon': '01d'}],\n",
       " 'base': 'stations',\n",
       " 'main': {'temp': 85.93,\n",
       "  'feels_like': 84.45,\n",
       "  'temp_min': 82,\n",
       "  'temp_max': 91,\n",
       "  'pressure': 1014,\n",
       "  'humidity': 54},\n",
       " 'visibility': 16093,\n",
       " 'wind': {'speed': 13.87, 'deg': 120},\n",
       " 'clouds': {'all': 1},\n",
       " 'dt': 1592771469,\n",
       " 'sys': {'type': 1,\n",
       "  'id': 3486,\n",
       "  'country': 'US',\n",
       "  'sunrise': 1592730456,\n",
       "  'sunset': 1592785477},\n",
       " 'timezone': -14400,\n",
       " 'id': 4930956,\n",
       " 'name': 'Boston',\n",
       " 'cod': 200}"
      ]
     },
     "execution_count": 16,
     "metadata": {},
     "output_type": "execute_result"
    }
   ],
   "source": [
    "# Create an endpoint URL for a city.\n",
    "city_url = url + \"&q=\" + \"Boston\"\n",
    "city_weather = requests.get(city_url)\n",
    "city_weather.json()"
   ]
  },
  {
   "cell_type": "markdown",
   "metadata": {},
   "source": [
    "Lesson 6.2.5 Parse a Response from an API"
   ]
  },
  {
   "cell_type": "code",
   "execution_count": 17,
   "metadata": {},
   "outputs": [
    {
     "data": {
      "text/plain": [
       "dict"
      ]
     },
     "execution_count": 17,
     "metadata": {},
     "output_type": "execute_result"
    }
   ],
   "source": [
    "# Get the JSON data.\n",
    "boston_data = city_weather.json()\n",
    "type(boston_data)"
   ]
  },
  {
   "cell_type": "code",
   "execution_count": 18,
   "metadata": {},
   "outputs": [
    {
     "data": {
      "text/plain": [
       "{'type': 1,\n",
       " 'id': 3486,\n",
       " 'country': 'US',\n",
       " 'sunrise': 1592730456,\n",
       " 'sunset': 1592785477}"
      ]
     },
     "execution_count": 18,
     "metadata": {},
     "output_type": "execute_result"
    }
   ],
   "source": [
    "boston_data['sys']"
   ]
  },
  {
   "cell_type": "code",
   "execution_count": 19,
   "metadata": {},
   "outputs": [
    {
     "data": {
      "text/plain": [
       "'US'"
      ]
     },
     "execution_count": 19,
     "metadata": {},
     "output_type": "execute_result"
    }
   ],
   "source": [
    "boston_data['sys']['country']"
   ]
  },
  {
   "cell_type": "code",
   "execution_count": 20,
   "metadata": {},
   "outputs": [
    {
     "data": {
      "text/plain": [
       "1592771469"
      ]
     },
     "execution_count": 20,
     "metadata": {},
     "output_type": "execute_result"
    }
   ],
   "source": [
    "# retrieve the date in the weather data\n",
    "boston_data[\"dt\"]"
   ]
  },
  {
   "cell_type": "code",
   "execution_count": 21,
   "metadata": {},
   "outputs": [
    {
     "data": {
      "text/plain": [
       "42.36"
      ]
     },
     "execution_count": 21,
     "metadata": {},
     "output_type": "execute_result"
    }
   ],
   "source": [
    "# Get the latitude value from Boston JSON data\n",
    "boston_data['coord']['lat']"
   ]
  },
  {
   "cell_type": "code",
   "execution_count": 22,
   "metadata": {},
   "outputs": [
    {
     "data": {
      "text/plain": [
       "91"
      ]
     },
     "execution_count": 22,
     "metadata": {},
     "output_type": "execute_result"
    }
   ],
   "source": [
    "# Get the Temperature Boston JSON data\n",
    "#'coord': {'lon': -71.06, 'lat': 42.36}\n",
    "boston_data['main']['temp_max']"
   ]
  },
  {
   "cell_type": "code",
   "execution_count": 23,
   "metadata": {},
   "outputs": [
    {
     "name": "stdout",
     "output_type": "stream",
     "text": [
      "42.36 -71.06 91 54 1 13.87\n"
     ]
    }
   ],
   "source": [
    "# Get various stats from Boston JSON data\n",
    "lat = boston_data[\"coord\"][\"lat\"]\n",
    "lng = boston_data[\"coord\"][\"lon\"]\n",
    "max_temp = boston_data[\"main\"][\"temp_max\"]\n",
    "humidity = boston_data[\"main\"][\"humidity\"]\n",
    "clouds = boston_data[\"clouds\"][\"all\"]\n",
    "wind = boston_data[\"wind\"][\"speed\"]\n",
    "print(lat, lng, max_temp, humidity, clouds, wind)"
   ]
  },
  {
   "cell_type": "code",
   "execution_count": 24,
   "metadata": {},
   "outputs": [
    {
     "data": {
      "text/plain": [
       "datetime.datetime(2020, 6, 21, 20, 31, 9)"
      ]
     },
     "execution_count": 24,
     "metadata": {},
     "output_type": "execute_result"
    }
   ],
   "source": [
    "# Import the datetime module from the datetime library.\n",
    "from datetime import datetime\n",
    "# Get the date from the JSON file.\n",
    "date = boston_data[\"dt\"]\n",
    "# Convert the UTC date to a date format with year, month, day, hours, minutes, and seconds.\n",
    "datetime.utcfromtimestamp(date)"
   ]
  },
  {
   "cell_type": "code",
   "execution_count": 25,
   "metadata": {},
   "outputs": [
    {
     "data": {
      "text/plain": [
       "'2020-06-21 20:31:09'"
      ]
     },
     "execution_count": 25,
     "metadata": {},
     "output_type": "execute_result"
    }
   ],
   "source": [
    "datetime.utcfromtimestamp(date).strftime('%Y-%m-%d %H:%M:%S')"
   ]
  },
  {
   "cell_type": "markdown",
   "metadata": {},
   "source": [
    "Lesson 6.2.6 Get the City Weather Data\n"
   ]
  },
  {
   "cell_type": "code",
   "execution_count": 26,
   "metadata": {},
   "outputs": [],
   "source": [
    "# Import the datetime module from the datetime library.\n",
    "from datetime import datetime"
   ]
  },
  {
   "cell_type": "code",
   "execution_count": 27,
   "metadata": {},
   "outputs": [
    {
     "data": {
      "text/plain": [
       "list"
      ]
     },
     "execution_count": 27,
     "metadata": {},
     "output_type": "execute_result"
    }
   ],
   "source": [
    "type(cities)"
   ]
  },
  {
   "cell_type": "code",
   "execution_count": 28,
   "metadata": {},
   "outputs": [
    {
     "data": {
      "text/plain": [
       "604"
      ]
     },
     "execution_count": 28,
     "metadata": {},
     "output_type": "execute_result"
    }
   ],
   "source": [
    "len(cities)"
   ]
  },
  {
   "cell_type": "code",
   "execution_count": 29,
   "metadata": {},
   "outputs": [
    {
     "name": "stdout",
     "output_type": "stream",
     "text": [
      "Beginning Data Retrieval     \n",
      "-----------------------------\n",
      "Processing Record 1 of Set 1 | abu kamal\n",
      "Processing Record 2 of Set 1 | egvekinot\n",
      "Processing Record 3 of Set 1 | illoqqortoormiut\n",
      "illoqqortoormiut not found! Skipping city ...\n",
      "Processing Record 4 of Set 1 | saldanha\n",
      "Processing Record 5 of Set 1 | hilo\n",
      "Processing Record 6 of Set 1 | pevek\n",
      "Processing Record 7 of Set 1 | albany\n",
      "Processing Record 8 of Set 1 | kapaa\n",
      "Processing Record 9 of Set 1 | ponta do sol\n",
      "Processing Record 10 of Set 1 | kodiak\n",
      "Processing Record 11 of Set 1 | nikolskoye\n",
      "Processing Record 12 of Set 1 | mys shmidta\n",
      "mys shmidta not found! Skipping city ...\n",
      "Processing Record 13 of Set 1 | yellowknife\n",
      "Processing Record 14 of Set 1 | bluff\n",
      "Processing Record 15 of Set 1 | oyama\n",
      "Processing Record 16 of Set 1 | jamestown\n",
      "Processing Record 17 of Set 1 | east london\n",
      "Processing Record 18 of Set 1 | hambantota\n",
      "Processing Record 19 of Set 1 | cao bang\n",
      "Processing Record 20 of Set 1 | rikitea\n",
      "Processing Record 21 of Set 1 | ribeira grande\n",
      "Processing Record 22 of Set 1 | port alfred\n",
      "Processing Record 23 of Set 1 | new norfolk\n",
      "Processing Record 24 of Set 1 | meadow lake\n",
      "Processing Record 25 of Set 1 | dikson\n",
      "Processing Record 26 of Set 1 | carnarvon\n",
      "Processing Record 27 of Set 1 | airai\n",
      "Processing Record 28 of Set 1 | banyo\n",
      "Processing Record 29 of Set 1 | hobart\n",
      "Processing Record 30 of Set 1 | trairi\n",
      "Processing Record 31 of Set 1 | grindavik\n",
      "Processing Record 32 of Set 1 | vaini\n",
      "Processing Record 33 of Set 1 | cehegin\n",
      "Processing Record 34 of Set 1 | puerto maldonado\n",
      "Processing Record 35 of Set 1 | busselton\n",
      "Processing Record 36 of Set 1 | khatanga\n",
      "Processing Record 37 of Set 1 | georgetown\n",
      "Processing Record 38 of Set 1 | thunder bay\n",
      "Processing Record 39 of Set 1 | myitkyina\n",
      "Processing Record 40 of Set 1 | saint-philippe\n",
      "Processing Record 41 of Set 1 | vaitupu\n",
      "vaitupu not found! Skipping city ...\n",
      "Processing Record 42 of Set 1 | pemangkat\n",
      "Processing Record 43 of Set 1 | punta arenas\n",
      "Processing Record 44 of Set 1 | ushuaia\n",
      "Processing Record 45 of Set 1 | talnakh\n",
      "Processing Record 46 of Set 1 | cabedelo\n",
      "Processing Record 47 of Set 1 | namibe\n",
      "Processing Record 48 of Set 1 | raymond\n",
      "Processing Record 49 of Set 1 | hithadhoo\n",
      "Processing Record 50 of Set 1 | nizhneyansk\n",
      "nizhneyansk not found! Skipping city ...\n",
      "Processing Record 1 of Set 2 | tilichiki\n",
      "Processing Record 2 of Set 2 | tuktoyaktuk\n",
      "Processing Record 3 of Set 2 | salem\n",
      "Processing Record 4 of Set 2 | rio grande\n",
      "Processing Record 5 of Set 2 | taolanaro\n",
      "taolanaro not found! Skipping city ...\n",
      "Processing Record 6 of Set 2 | puerto ayora\n",
      "Processing Record 7 of Set 2 | ketchikan\n",
      "Processing Record 8 of Set 2 | provideniya\n",
      "Processing Record 9 of Set 2 | hasaki\n",
      "Processing Record 10 of Set 2 | klaksvik\n",
      "Processing Record 11 of Set 2 | emirdag\n",
      "Processing Record 12 of Set 2 | saleaula\n",
      "saleaula not found! Skipping city ...\n",
      "Processing Record 13 of Set 2 | mataura\n",
      "Processing Record 14 of Set 2 | pisco\n",
      "Processing Record 15 of Set 2 | piracuruca\n",
      "Processing Record 16 of Set 2 | puerto carreno\n",
      "Processing Record 17 of Set 2 | tuatapere\n",
      "Processing Record 18 of Set 2 | cape town\n",
      "Processing Record 19 of Set 2 | ancud\n",
      "Processing Record 20 of Set 2 | ostersund\n",
      "Processing Record 21 of Set 2 | atuona\n",
      "Processing Record 22 of Set 2 | kedrovyy\n",
      "Processing Record 23 of Set 2 | poli\n",
      "Processing Record 24 of Set 2 | upernavik\n",
      "Processing Record 25 of Set 2 | agua prieta\n",
      "Processing Record 26 of Set 2 | hokitika\n",
      "Processing Record 27 of Set 2 | saint george\n",
      "Processing Record 28 of Set 2 | lompoc\n",
      "Processing Record 29 of Set 2 | kaitangata\n",
      "Processing Record 30 of Set 2 | butaritari\n",
      "Processing Record 31 of Set 2 | vardo\n",
      "Processing Record 32 of Set 2 | ilhabela\n",
      "Processing Record 33 of Set 2 | xuddur\n",
      "Processing Record 34 of Set 2 | pio xii\n",
      "Processing Record 35 of Set 2 | katsuura\n",
      "Processing Record 36 of Set 2 | horsham\n",
      "Processing Record 37 of Set 2 | carora\n",
      "Processing Record 38 of Set 2 | tenenkou\n",
      "Processing Record 39 of Set 2 | dunedin\n",
      "Processing Record 40 of Set 2 | kalmunai\n",
      "Processing Record 41 of Set 2 | mar del plata\n",
      "Processing Record 42 of Set 2 | lorengau\n",
      "Processing Record 43 of Set 2 | puerto leguizamo\n",
      "Processing Record 44 of Set 2 | kysyl-syr\n",
      "Processing Record 45 of Set 2 | port lincoln\n",
      "Processing Record 46 of Set 2 | attawapiskat\n",
      "attawapiskat not found! Skipping city ...\n",
      "Processing Record 47 of Set 2 | barrow\n",
      "Processing Record 48 of Set 2 | hermanus\n",
      "Processing Record 49 of Set 2 | narsaq\n",
      "Processing Record 50 of Set 2 | kasempa\n",
      "Processing Record 1 of Set 3 | glendive\n",
      "Processing Record 2 of Set 3 | fatikchhari\n",
      "fatikchhari not found! Skipping city ...\n",
      "Processing Record 3 of Set 3 | vicente guerrero\n",
      "Processing Record 4 of Set 3 | avarua\n",
      "Processing Record 5 of Set 3 | port elizabeth\n",
      "Processing Record 6 of Set 3 | trapani\n",
      "Processing Record 7 of Set 3 | pimentel\n",
      "Processing Record 8 of Set 3 | walvis bay\n",
      "Processing Record 9 of Set 3 | castro\n",
      "Processing Record 10 of Set 3 | nara\n",
      "Processing Record 11 of Set 3 | halifax\n",
      "Processing Record 12 of Set 3 | sorong\n",
      "Processing Record 13 of Set 3 | sitka\n",
      "Processing Record 14 of Set 3 | olafsvik\n",
      "Processing Record 15 of Set 3 | beringovskiy\n",
      "Processing Record 16 of Set 3 | wewak\n",
      "Processing Record 17 of Set 3 | tual\n",
      "Processing Record 18 of Set 3 | cidreira\n",
      "Processing Record 19 of Set 3 | hofn\n",
      "Processing Record 20 of Set 3 | touros\n",
      "Processing Record 21 of Set 3 | amderma\n",
      "amderma not found! Skipping city ...\n",
      "Processing Record 22 of Set 3 | wattegama\n",
      "Processing Record 23 of Set 3 | saskylakh\n",
      "Processing Record 24 of Set 3 | ust-maya\n",
      "Processing Record 25 of Set 3 | bowen\n",
      "Processing Record 26 of Set 3 | antofagasta\n",
      "Processing Record 27 of Set 3 | faya\n",
      "Processing Record 28 of Set 3 | bengkulu\n",
      "Processing Record 29 of Set 3 | meyungs\n",
      "meyungs not found! Skipping city ...\n",
      "Processing Record 30 of Set 3 | pueblo nuevo\n",
      "Processing Record 31 of Set 3 | dinguiraye\n",
      "Processing Record 32 of Set 3 | thompson\n",
      "Processing Record 33 of Set 3 | bredasdorp\n",
      "Processing Record 34 of Set 3 | opuwo\n",
      "Processing Record 35 of Set 3 | samusu\n",
      "samusu not found! Skipping city ...\n",
      "Processing Record 36 of Set 3 | mumbwa\n",
      "Processing Record 37 of Set 3 | sentyabrskiy\n",
      "sentyabrskiy not found! Skipping city ...\n",
      "Processing Record 38 of Set 3 | broome\n",
      "Processing Record 39 of Set 3 | nolinsk\n",
      "Processing Record 40 of Set 3 | salinopolis\n",
      "Processing Record 41 of Set 3 | sawtell\n",
      "Processing Record 42 of Set 3 | barentsburg\n",
      "barentsburg not found! Skipping city ...\n",
      "Processing Record 43 of Set 3 | biskupiec\n",
      "Processing Record 44 of Set 3 | cayenne\n",
      "Processing Record 45 of Set 3 | severo-kurilsk\n",
      "Processing Record 46 of Set 3 | ondorhaan\n",
      "ondorhaan not found! Skipping city ...\n",
      "Processing Record 47 of Set 3 | logon\n",
      "Processing Record 48 of Set 3 | kamenskoye\n",
      "kamenskoye not found! Skipping city ...\n",
      "Processing Record 49 of Set 3 | solton\n",
      "Processing Record 50 of Set 3 | aykhal\n",
      "Processing Record 1 of Set 4 | portland\n",
      "Processing Record 2 of Set 4 | zhanaozen\n",
      "Processing Record 3 of Set 4 | aksu\n",
      "Processing Record 4 of Set 4 | shaping\n",
      "Processing Record 5 of Set 4 | carbondale\n",
      "Processing Record 6 of Set 4 | el paso\n",
      "Processing Record 7 of Set 4 | vesyegonsk\n",
      "Processing Record 8 of Set 4 | khandagayty\n",
      "Processing Record 9 of Set 4 | poum\n",
      "Processing Record 10 of Set 4 | impfondo\n",
      "Processing Record 11 of Set 4 | bilibino\n",
      "Processing Record 12 of Set 4 | sainte-marie\n",
      "Processing Record 13 of Set 4 | tiksi\n",
      "Processing Record 14 of Set 4 | port blair\n",
      "Processing Record 15 of Set 4 | chuy\n",
      "Processing Record 16 of Set 4 | awjilah\n",
      "Processing Record 17 of Set 4 | longyearbyen\n",
      "Processing Record 18 of Set 4 | bethel\n",
      "Processing Record 19 of Set 4 | wamba\n",
      "Processing Record 20 of Set 4 | arlit\n",
      "Processing Record 21 of Set 4 | pauini\n",
      "Processing Record 22 of Set 4 | caldwell\n",
      "Processing Record 23 of Set 4 | cockburn town\n",
      "Processing Record 24 of Set 4 | ibra\n",
      "Processing Record 25 of Set 4 | nagato\n",
      "Processing Record 26 of Set 4 | sauca\n",
      "Processing Record 27 of Set 4 | qaanaaq\n",
      "Processing Record 28 of Set 4 | dehloran\n",
      "Processing Record 29 of Set 4 | zharkent\n",
      "Processing Record 30 of Set 4 | aktash\n",
      "Processing Record 31 of Set 4 | pasighat\n",
      "Processing Record 32 of Set 4 | santa fe\n",
      "Processing Record 33 of Set 4 | lavrentiya\n",
      "Processing Record 34 of Set 4 | geraldton\n"
     ]
    },
    {
     "name": "stdout",
     "output_type": "stream",
     "text": [
      "Processing Record 35 of Set 4 | utena\n",
      "Processing Record 36 of Set 4 | the valley\n",
      "Processing Record 37 of Set 4 | murupara\n",
      "Processing Record 38 of Set 4 | vila franca do campo\n",
      "Processing Record 39 of Set 4 | panzhihua\n",
      "Processing Record 40 of Set 4 | linqiong\n",
      "Processing Record 41 of Set 4 | abu dhabi\n",
      "Processing Record 42 of Set 4 | rosetta\n",
      "Processing Record 43 of Set 4 | tautira\n",
      "Processing Record 44 of Set 4 | port-gentil\n",
      "Processing Record 45 of Set 4 | santa marta\n",
      "Processing Record 46 of Set 4 | zhangye\n",
      "Processing Record 47 of Set 4 | avera\n",
      "Processing Record 48 of Set 4 | progreso\n",
      "Processing Record 49 of Set 4 | ahipara\n",
      "Processing Record 50 of Set 4 | brae\n",
      "Processing Record 1 of Set 5 | boende\n",
      "Processing Record 2 of Set 5 | mosquera\n",
      "Processing Record 3 of Set 5 | mitsamiouli\n",
      "Processing Record 4 of Set 5 | yasinya\n",
      "Processing Record 5 of Set 5 | chokurdakh\n",
      "Processing Record 6 of Set 5 | ostrovnoy\n",
      "Processing Record 7 of Set 5 | thinadhoo\n",
      "Processing Record 8 of Set 5 | honningsvag\n",
      "Processing Record 9 of Set 5 | sobolevo\n",
      "Processing Record 10 of Set 5 | georgiyevskoye\n",
      "Processing Record 11 of Set 5 | conceicao da barra\n",
      "Processing Record 12 of Set 5 | novikovo\n",
      "Processing Record 13 of Set 5 | mahebourg\n",
      "Processing Record 14 of Set 5 | bilma\n",
      "Processing Record 15 of Set 5 | lebu\n",
      "Processing Record 16 of Set 5 | valley city\n",
      "Processing Record 17 of Set 5 | isangel\n",
      "Processing Record 18 of Set 5 | codrington\n",
      "Processing Record 19 of Set 5 | bambous virieux\n",
      "Processing Record 20 of Set 5 | maryville\n",
      "Processing Record 21 of Set 5 | cascais\n",
      "Processing Record 22 of Set 5 | saint-augustin\n",
      "Processing Record 23 of Set 5 | plavinas\n",
      "Processing Record 24 of Set 5 | bondoukou\n",
      "Processing Record 25 of Set 5 | souillac\n",
      "Processing Record 26 of Set 5 | baykit\n",
      "Processing Record 27 of Set 5 | severnoye\n",
      "Processing Record 28 of Set 5 | loukhi\n",
      "Processing Record 29 of Set 5 | pilar\n",
      "Processing Record 30 of Set 5 | agucadoura\n",
      "Processing Record 31 of Set 5 | ulladulla\n",
      "Processing Record 32 of Set 5 | rocha\n",
      "Processing Record 33 of Set 5 | port hardy\n",
      "Processing Record 34 of Set 5 | aranos\n",
      "Processing Record 35 of Set 5 | pacific grove\n",
      "Processing Record 36 of Set 5 | te anau\n",
      "Processing Record 37 of Set 5 | maarianhamina\n",
      "Processing Record 38 of Set 5 | makurdi\n",
      "Processing Record 39 of Set 5 | coari\n",
      "Processing Record 40 of Set 5 | yar-sale\n",
      "Processing Record 41 of Set 5 | babanusah\n",
      "babanusah not found! Skipping city ...\n",
      "Processing Record 42 of Set 5 | ballina\n",
      "Processing Record 43 of Set 5 | hualmay\n",
      "Processing Record 44 of Set 5 | coquimbo\n",
      "Processing Record 45 of Set 5 | yarega\n",
      "Processing Record 46 of Set 5 | mgandu\n",
      "Processing Record 47 of Set 5 | hami\n",
      "Processing Record 48 of Set 5 | forrest city\n",
      "Processing Record 49 of Set 5 | orange\n",
      "Processing Record 50 of Set 5 | cienfuegos\n",
      "Processing Record 1 of Set 6 | terre haute\n",
      "Processing Record 2 of Set 6 | laukaa\n",
      "Processing Record 3 of Set 6 | kavieng\n",
      "Processing Record 4 of Set 6 | naze\n",
      "Processing Record 5 of Set 6 | chara\n",
      "Processing Record 6 of Set 6 | alice springs\n",
      "Processing Record 7 of Set 6 | hammerfest\n",
      "Processing Record 8 of Set 6 | deep river\n",
      "Processing Record 9 of Set 6 | charlestown\n",
      "Processing Record 10 of Set 6 | guerrero negro\n",
      "Processing Record 11 of Set 6 | bandarbeyla\n",
      "Processing Record 12 of Set 6 | yurya\n",
      "yurya not found! Skipping city ...\n",
      "Processing Record 13 of Set 6 | torbay\n",
      "Processing Record 14 of Set 6 | manhattan\n",
      "Processing Record 15 of Set 6 | taiyuan\n",
      "Processing Record 16 of Set 6 | shelburne\n",
      "Processing Record 17 of Set 6 | calama\n",
      "Processing Record 18 of Set 6 | sassandra\n",
      "Processing Record 19 of Set 6 | marcona\n",
      "marcona not found! Skipping city ...\n",
      "Processing Record 20 of Set 6 | palmer\n",
      "Processing Record 21 of Set 6 | northam\n",
      "Processing Record 22 of Set 6 | leningradskiy\n",
      "Processing Record 23 of Set 6 | goulburn\n",
      "Processing Record 24 of Set 6 | tasiilaq\n",
      "Processing Record 25 of Set 6 | amahai\n",
      "Processing Record 26 of Set 6 | zhigansk\n",
      "Processing Record 27 of Set 6 | lawan kuda baharu\n",
      "lawan kuda baharu not found! Skipping city ...\n",
      "Processing Record 28 of Set 6 | tsihombe\n",
      "tsihombe not found! Skipping city ...\n",
      "Processing Record 29 of Set 6 | labuhan\n",
      "Processing Record 30 of Set 6 | artyk\n",
      "artyk not found! Skipping city ...\n",
      "Processing Record 31 of Set 6 | altay\n",
      "Processing Record 32 of Set 6 | cape canaveral\n",
      "Processing Record 33 of Set 6 | victoria\n",
      "Processing Record 34 of Set 6 | wanning\n",
      "Processing Record 35 of Set 6 | zhezkazgan\n",
      "Processing Record 36 of Set 6 | choma\n",
      "Processing Record 37 of Set 6 | ust-tsilma\n",
      "Processing Record 38 of Set 6 | arraial do cabo\n",
      "Processing Record 39 of Set 6 | sao filipe\n",
      "Processing Record 40 of Set 6 | tatawin\n",
      "Processing Record 41 of Set 6 | mayor pablo lagerenza\n",
      "Processing Record 42 of Set 6 | omsukchan\n",
      "Processing Record 43 of Set 6 | severnyy\n",
      "Processing Record 44 of Set 6 | praia da vitoria\n",
      "Processing Record 45 of Set 6 | tigil\n",
      "Processing Record 46 of Set 6 | cabo san lucas\n",
      "Processing Record 47 of Set 6 | tumannyy\n",
      "tumannyy not found! Skipping city ...\n",
      "Processing Record 48 of Set 6 | rabo de peixe\n",
      "Processing Record 49 of Set 6 | beloha\n",
      "Processing Record 50 of Set 6 | belushya guba\n",
      "belushya guba not found! Skipping city ...\n",
      "Processing Record 1 of Set 7 | doboj\n",
      "Processing Record 2 of Set 7 | grand river south east\n",
      "grand river south east not found! Skipping city ...\n",
      "Processing Record 3 of Set 7 | gat\n",
      "Processing Record 4 of Set 7 | maniitsoq\n",
      "Processing Record 5 of Set 7 | jasper\n",
      "Processing Record 6 of Set 7 | baruun-urt\n",
      "Processing Record 7 of Set 7 | bathsheba\n",
      "Processing Record 8 of Set 7 | saint-joseph\n",
      "Processing Record 9 of Set 7 | prieska\n",
      "Processing Record 10 of Set 7 | kahului\n",
      "Processing Record 11 of Set 7 | vila\n",
      "Processing Record 12 of Set 7 | dicabisagan\n",
      "Processing Record 13 of Set 7 | linjiang\n",
      "Processing Record 14 of Set 7 | wagar\n",
      "Processing Record 15 of Set 7 | amga\n",
      "Processing Record 16 of Set 7 | alofi\n",
      "Processing Record 17 of Set 7 | kommunar\n",
      "Processing Record 18 of Set 7 | binga\n",
      "Processing Record 19 of Set 7 | ternate\n",
      "Processing Record 20 of Set 7 | chagda\n",
      "chagda not found! Skipping city ...\n",
      "Processing Record 21 of Set 7 | la ronge\n",
      "Processing Record 22 of Set 7 | yermakovskoye\n",
      "Processing Record 23 of Set 7 | saurimo\n",
      "Processing Record 24 of Set 7 | warqla\n",
      "warqla not found! Skipping city ...\n",
      "Processing Record 25 of Set 7 | charters towers\n",
      "Processing Record 26 of Set 7 | nosy varika\n",
      "Processing Record 27 of Set 7 | praia\n",
      "Processing Record 28 of Set 7 | berlevag\n",
      "Processing Record 29 of Set 7 | deputatskiy\n",
      "Processing Record 30 of Set 7 | muros\n",
      "Processing Record 31 of Set 7 | henties bay\n",
      "Processing Record 32 of Set 7 | gravdal\n",
      "Processing Record 33 of Set 7 | braco do norte\n",
      "Processing Record 34 of Set 7 | nanortalik\n",
      "Processing Record 35 of Set 7 | mayo\n",
      "Processing Record 36 of Set 7 | eldorado\n",
      "Processing Record 37 of Set 7 | onguday\n",
      "Processing Record 38 of Set 7 | murashi\n",
      "Processing Record 39 of Set 7 | nalut\n",
      "Processing Record 40 of Set 7 | kamenka\n",
      "Processing Record 41 of Set 7 | marzuq\n",
      "Processing Record 42 of Set 7 | touho\n",
      "Processing Record 43 of Set 7 | tabiauea\n",
      "tabiauea not found! Skipping city ...\n",
      "Processing Record 44 of Set 7 | polson\n",
      "Processing Record 45 of Set 7 | paamiut\n",
      "Processing Record 46 of Set 7 | kuching\n",
      "Processing Record 47 of Set 7 | severo-yeniseyskiy\n",
      "Processing Record 48 of Set 7 | bozeman\n",
      "Processing Record 49 of Set 7 | mogadishu\n",
      "Processing Record 50 of Set 7 | lagoa\n",
      "Processing Record 1 of Set 8 | esil\n",
      "Processing Record 2 of Set 8 | mporokoso\n",
      "Processing Record 3 of Set 8 | iqaluit\n",
      "Processing Record 4 of Set 8 | makung\n",
      "makung not found! Skipping city ...\n",
      "Processing Record 5 of Set 8 | brainerd\n",
      "Processing Record 6 of Set 8 | colares\n",
      "Processing Record 7 of Set 8 | nome\n",
      "Processing Record 8 of Set 8 | gouyave\n",
      "Processing Record 9 of Set 8 | samarai\n",
      "Processing Record 10 of Set 8 | balykshi\n",
      "balykshi not found! Skipping city ...\n",
      "Processing Record 11 of Set 8 | fallon\n",
      "Processing Record 12 of Set 8 | aizawl\n",
      "Processing Record 13 of Set 8 | haines junction\n",
      "Processing Record 14 of Set 8 | cody\n",
      "Processing Record 15 of Set 8 | dryden\n",
      "Processing Record 16 of Set 8 | ilulissat\n",
      "Processing Record 17 of Set 8 | baringo\n",
      "Processing Record 18 of Set 8 | ciudad guayana\n",
      "Processing Record 19 of Set 8 | pinega\n",
      "Processing Record 20 of Set 8 | lima\n",
      "Processing Record 21 of Set 8 | benalla\n"
     ]
    },
    {
     "name": "stdout",
     "output_type": "stream",
     "text": [
      "Processing Record 22 of Set 8 | lolua\n",
      "lolua not found! Skipping city ...\n",
      "Processing Record 23 of Set 8 | skibbereen\n",
      "Processing Record 24 of Set 8 | buraydah\n",
      "Processing Record 25 of Set 8 | kjollefjord\n",
      "Processing Record 26 of Set 8 | nishihara\n",
      "Processing Record 27 of Set 8 | kavaratti\n",
      "Processing Record 28 of Set 8 | yelizovo\n",
      "Processing Record 29 of Set 8 | skara\n",
      "Processing Record 30 of Set 8 | vanimo\n",
      "Processing Record 31 of Set 8 | daru\n",
      "Processing Record 32 of Set 8 | esperance\n",
      "Processing Record 33 of Set 8 | chippewa falls\n",
      "Processing Record 34 of Set 8 | svetlyy\n",
      "Processing Record 35 of Set 8 | krasnoselkup\n",
      "Processing Record 36 of Set 8 | nantucket\n",
      "Processing Record 37 of Set 8 | karratha\n",
      "Processing Record 38 of Set 8 | requena\n",
      "Processing Record 39 of Set 8 | mount isa\n",
      "Processing Record 40 of Set 8 | leh\n",
      "Processing Record 41 of Set 8 | brigantine\n",
      "Processing Record 42 of Set 8 | gwanda\n",
      "Processing Record 43 of Set 8 | hirara\n",
      "Processing Record 44 of Set 8 | alvorada\n",
      "Processing Record 45 of Set 8 | mehamn\n",
      "Processing Record 46 of Set 8 | toora-khem\n",
      "Processing Record 47 of Set 8 | erzin\n",
      "Processing Record 48 of Set 8 | tombouctou\n",
      "Processing Record 49 of Set 8 | asau\n",
      "Processing Record 50 of Set 8 | batemans bay\n",
      "Processing Record 1 of Set 9 | ilebo\n",
      "Processing Record 2 of Set 9 | along\n",
      "Processing Record 3 of Set 9 | husavik\n",
      "Processing Record 4 of Set 9 | yulara\n",
      "Processing Record 5 of Set 9 | mombasa\n",
      "Processing Record 6 of Set 9 | vila velha\n",
      "Processing Record 7 of Set 9 | deer lake\n",
      "Processing Record 8 of Set 9 | lagos\n",
      "Processing Record 9 of Set 9 | sisimiut\n",
      "Processing Record 10 of Set 9 | sayat\n",
      "Processing Record 11 of Set 9 | bolungarvik\n",
      "bolungarvik not found! Skipping city ...\n",
      "Processing Record 12 of Set 9 | plastun\n",
      "Processing Record 13 of Set 9 | adrar\n",
      "Processing Record 14 of Set 9 | beniganj\n",
      "Processing Record 15 of Set 9 | tabas\n",
      "Processing Record 16 of Set 9 | atar\n",
      "Processing Record 17 of Set 9 | caravelas\n",
      "Processing Record 18 of Set 9 | svetlaya\n",
      "Processing Record 19 of Set 9 | tagawa\n",
      "Processing Record 20 of Set 9 | kununurra\n",
      "Processing Record 21 of Set 9 | sennoy\n",
      "Processing Record 22 of Set 9 | kruisfontein\n",
      "Processing Record 23 of Set 9 | luderitz\n",
      "Processing Record 24 of Set 9 | karauzyak\n",
      "karauzyak not found! Skipping city ...\n",
      "Processing Record 25 of Set 9 | marawi\n",
      "Processing Record 26 of Set 9 | shihezi\n",
      "Processing Record 27 of Set 9 | khasan\n",
      "Processing Record 28 of Set 9 | salinas\n",
      "Processing Record 29 of Set 9 | wad madani\n",
      "Processing Record 30 of Set 9 | phalaborwa\n",
      "Processing Record 31 of Set 9 | plyussa\n",
      "Processing Record 32 of Set 9 | pemberton\n",
      "Processing Record 33 of Set 9 | clyde river\n",
      "Processing Record 34 of Set 9 | quatre cocos\n",
      "Processing Record 35 of Set 9 | yeppoon\n",
      "Processing Record 36 of Set 9 | shimoda\n",
      "Processing Record 37 of Set 9 | viedma\n",
      "Processing Record 38 of Set 9 | comodoro rivadavia\n",
      "Processing Record 39 of Set 9 | sioux lookout\n",
      "Processing Record 40 of Set 9 | valjala\n",
      "valjala not found! Skipping city ...\n",
      "Processing Record 41 of Set 9 | kailua\n",
      "Processing Record 42 of Set 9 | beihai\n",
      "Processing Record 43 of Set 9 | harrison\n",
      "Processing Record 44 of Set 9 | shingu\n",
      "Processing Record 45 of Set 9 | cherskiy\n",
      "Processing Record 46 of Set 9 | pasewalk\n",
      "Processing Record 47 of Set 9 | aitape\n",
      "Processing Record 48 of Set 9 | tessalit\n",
      "Processing Record 49 of Set 9 | vredendal\n",
      "Processing Record 50 of Set 9 | faanui\n",
      "Processing Record 1 of Set 10 | noumea\n",
      "Processing Record 2 of Set 10 | baker city\n",
      "Processing Record 3 of Set 10 | neuquen\n",
      "Processing Record 4 of Set 10 | merauke\n",
      "Processing Record 5 of Set 10 | akdagmadeni\n",
      "Processing Record 6 of Set 10 | hunterville\n",
      "Processing Record 7 of Set 10 | san patricio\n",
      "Processing Record 8 of Set 10 | maraba\n",
      "Processing Record 9 of Set 10 | dzhusaly\n",
      "dzhusaly not found! Skipping city ...\n",
      "Processing Record 10 of Set 10 | jizan\n",
      "Processing Record 11 of Set 10 | leeton\n",
      "Processing Record 12 of Set 10 | tiruppuvanam\n",
      "Processing Record 13 of Set 10 | lewistown\n",
      "Processing Record 14 of Set 10 | hunza\n",
      "hunza not found! Skipping city ...\n",
      "Processing Record 15 of Set 10 | coahuayana\n",
      "Processing Record 16 of Set 10 | lata\n",
      "Processing Record 17 of Set 10 | virginia beach\n",
      "Processing Record 18 of Set 10 | padang\n",
      "Processing Record 19 of Set 10 | ndele\n",
      "Processing Record 20 of Set 10 | belaya gora\n",
      "Processing Record 21 of Set 10 | kungurtug\n",
      "Processing Record 22 of Set 10 | mishan\n",
      "Processing Record 23 of Set 10 | les cayes\n",
      "Processing Record 24 of Set 10 | san cristobal\n",
      "Processing Record 25 of Set 10 | koregaon\n",
      "Processing Record 26 of Set 10 | bitburg\n",
      "Processing Record 27 of Set 10 | vanavara\n",
      "Processing Record 28 of Set 10 | birjand\n",
      "Processing Record 29 of Set 10 | pachino\n",
      "Processing Record 30 of Set 10 | najran\n",
      "Processing Record 31 of Set 10 | port macquarie\n",
      "Processing Record 32 of Set 10 | vuktyl\n",
      "Processing Record 33 of Set 10 | buala\n",
      "Processing Record 34 of Set 10 | romhany\n",
      "Processing Record 35 of Set 10 | mocuba\n",
      "Processing Record 36 of Set 10 | houma\n",
      "Processing Record 37 of Set 10 | derzhavinsk\n",
      "Processing Record 38 of Set 10 | nouadhibou\n",
      "Processing Record 39 of Set 10 | front royal\n",
      "Processing Record 40 of Set 10 | zonhoven\n",
      "Processing Record 41 of Set 10 | khonuu\n",
      "khonuu not found! Skipping city ...\n",
      "Processing Record 42 of Set 10 | porto novo\n",
      "Processing Record 43 of Set 10 | dolores\n",
      "Processing Record 44 of Set 10 | saryshagan\n",
      "saryshagan not found! Skipping city ...\n",
      "Processing Record 45 of Set 10 | sandy bay\n",
      "Processing Record 46 of Set 10 | salalah\n",
      "Processing Record 47 of Set 10 | saint anthony\n",
      "Processing Record 48 of Set 10 | diffa\n",
      "Processing Record 49 of Set 10 | marv dasht\n",
      "marv dasht not found! Skipping city ...\n",
      "Processing Record 50 of Set 10 | sinnamary\n",
      "Processing Record 1 of Set 11 | belmonte\n",
      "Processing Record 2 of Set 11 | balkanabat\n",
      "Processing Record 3 of Set 11 | longhua\n",
      "Processing Record 4 of Set 11 | qaqortoq\n",
      "Processing Record 5 of Set 11 | gadwal\n",
      "Processing Record 6 of Set 11 | nhulunbuy\n",
      "Processing Record 7 of Set 11 | almaznyy\n",
      "Processing Record 8 of Set 11 | coihaique\n",
      "Processing Record 9 of Set 11 | guane\n",
      "Processing Record 10 of Set 11 | zaozerne\n",
      "Processing Record 11 of Set 11 | neiafu\n",
      "Processing Record 12 of Set 11 | boshnyakovo\n",
      "Processing Record 13 of Set 11 | gazanjyk\n",
      "Processing Record 14 of Set 11 | gubkinskiy\n",
      "Processing Record 15 of Set 11 | empa\n",
      "empa not found! Skipping city ...\n",
      "Processing Record 16 of Set 11 | thabazimbi\n",
      "Processing Record 17 of Set 11 | anadyr\n",
      "Processing Record 18 of Set 11 | stoyba\n",
      "stoyba not found! Skipping city ...\n",
      "Processing Record 19 of Set 11 | lakes entrance\n",
      "Processing Record 20 of Set 11 | anito\n",
      "Processing Record 21 of Set 11 | sharjah\n",
      "Processing Record 22 of Set 11 | freeport\n",
      "Processing Record 23 of Set 11 | kirpilskaya\n",
      "Processing Record 24 of Set 11 | benicarlo\n",
      "Processing Record 25 of Set 11 | magsaysay\n",
      "Processing Record 26 of Set 11 | mecca\n",
      "Processing Record 27 of Set 11 | pokrovka\n",
      "Processing Record 28 of Set 11 | otavi\n",
      "Processing Record 29 of Set 11 | los llanos de aridane\n",
      "Processing Record 30 of Set 11 | energetik\n",
      "Processing Record 31 of Set 11 | umzimvubu\n",
      "umzimvubu not found! Skipping city ...\n",
      "Processing Record 32 of Set 11 | fomboni\n",
      "Processing Record 33 of Set 11 | okhotsk\n",
      "Processing Record 34 of Set 11 | beruwala\n",
      "Processing Record 35 of Set 11 | rio branco\n",
      "Processing Record 36 of Set 11 | champerico\n",
      "Processing Record 37 of Set 11 | paraiso\n",
      "Processing Record 38 of Set 11 | pochutla\n",
      "Processing Record 39 of Set 11 | takoradi\n",
      "Processing Record 40 of Set 11 | akyab\n",
      "Processing Record 41 of Set 11 | lasa\n",
      "Processing Record 42 of Set 11 | louisbourg\n",
      "louisbourg not found! Skipping city ...\n",
      "Processing Record 43 of Set 11 | meulaboh\n",
      "Processing Record 44 of Set 11 | srednekolymsk\n",
      "Processing Record 45 of Set 11 | verkhnevilyuysk\n",
      "Processing Record 46 of Set 11 | vaitape\n",
      "Processing Record 47 of Set 11 | howard springs\n",
      "Processing Record 48 of Set 11 | aklavik\n",
      "Processing Record 49 of Set 11 | kargil\n",
      "Processing Record 50 of Set 11 | barraute\n",
      "Processing Record 1 of Set 12 | omboue\n",
      "Processing Record 2 of Set 12 | kudahuvadhoo\n",
      "Processing Record 3 of Set 12 | traverse city\n",
      "Processing Record 4 of Set 12 | nova olimpia\n",
      "Processing Record 5 of Set 12 | tsiroanomandidy\n",
      "Processing Record 6 of Set 12 | kalengwa\n",
      "Processing Record 7 of Set 12 | grand gaube\n",
      "Processing Record 8 of Set 12 | tommot\n"
     ]
    },
    {
     "name": "stdout",
     "output_type": "stream",
     "text": [
      "Processing Record 9 of Set 12 | manokwari\n",
      "Processing Record 10 of Set 12 | primorsk\n",
      "Processing Record 11 of Set 12 | jacksonville beach\n",
      "Processing Record 12 of Set 12 | amuntai\n",
      "Processing Record 13 of Set 12 | zyryanka\n",
      "Processing Record 14 of Set 12 | gander\n",
      "Processing Record 15 of Set 12 | blythe\n",
      "Processing Record 16 of Set 12 | tibiri\n",
      "Processing Record 17 of Set 12 | oras\n",
      "Processing Record 18 of Set 12 | huarmey\n",
      "Processing Record 19 of Set 12 | gillette\n",
      "Processing Record 20 of Set 12 | batagay\n",
      "Processing Record 21 of Set 12 | dhidhdhoo\n",
      "Processing Record 22 of Set 12 | ginir\n",
      "Processing Record 23 of Set 12 | aginskoye\n",
      "Processing Record 24 of Set 12 | calvia\n",
      "Processing Record 25 of Set 12 | claresholm\n",
      "Processing Record 26 of Set 12 | mount gambier\n",
      "Processing Record 27 of Set 12 | richards bay\n",
      "Processing Record 28 of Set 12 | vidim\n",
      "Processing Record 29 of Set 12 | saint-pierre\n",
      "Processing Record 30 of Set 12 | nemuro\n",
      "Processing Record 31 of Set 12 | nerchinskiy zavod\n",
      "Processing Record 32 of Set 12 | shaunavon\n",
      "Processing Record 33 of Set 12 | vila do maio\n",
      "Processing Record 34 of Set 12 | mandalgovi\n",
      "Processing Record 35 of Set 12 | vigrestad\n",
      "Processing Record 36 of Set 12 | iraquara\n",
      "Processing Record 37 of Set 12 | dingle\n",
      "Processing Record 38 of Set 12 | kangaatsiaq\n",
      "Processing Record 39 of Set 12 | jutai\n",
      "Processing Record 40 of Set 12 | sur\n",
      "Processing Record 41 of Set 12 | port hedland\n",
      "Processing Record 42 of Set 12 | pangnirtung\n",
      "Processing Record 43 of Set 12 | kushima\n",
      "Processing Record 44 of Set 12 | sohag\n",
      "Processing Record 45 of Set 12 | satitoa\n",
      "satitoa not found! Skipping city ...\n",
      "Processing Record 46 of Set 12 | kon tum\n",
      "Processing Record 47 of Set 12 | filadelfia\n",
      "Processing Record 48 of Set 12 | tura\n",
      "Processing Record 49 of Set 12 | oum hadjer\n",
      "Processing Record 50 of Set 12 | massaguet\n",
      "Processing Record 1 of Set 13 | abatskoye\n",
      "Processing Record 2 of Set 13 | mareeba\n",
      "Processing Record 3 of Set 13 | vestbygda\n",
      "vestbygda not found! Skipping city ...\n",
      "Processing Record 4 of Set 13 | inverell\n",
      "-----------------------------\n",
      "Data Retrieval Complete      \n",
      "-----------------------------\n"
     ]
    }
   ],
   "source": [
    "# Create an empty list to hold the weather data.\n",
    "city_data = []\n",
    "# Print the beginning of the logging.\n",
    "print(\"Beginning Data Retrieval     \")\n",
    "print(\"-----------------------------\")\n",
    "\n",
    "# Create counters.\n",
    "record_count = 1\n",
    "set_count = 1\n",
    "\n",
    "# Loop through all the cities in the list.\n",
    "for i, city in enumerate(cities):\n",
    "\n",
    "    # Group cities in sets of 50 for logging purposes.\n",
    "    if (i % 50 == 0 and i >= 50):\n",
    "        set_count += 1\n",
    "        record_count = 1\n",
    "    # Create endpoint URL with each city.\n",
    "    #city_url = url + \"&q=\" + \"i\"\n",
    "    city_url = url + \"&q=\" + city.replace(\" \",\"+\")\n",
    "\n",
    "    # Log the URL, record, and set numbers and the city.\n",
    "    print(f\"Processing Record {record_count} of Set {set_count} | {city}\")\n",
    "    # Add 1 to the record count.\n",
    "    record_count += 1\n",
    "    \n",
    "    # Run an API request for each of the cities.\n",
    "    # Handle API Request Errors with try-except Blocks\n",
    "    try:\n",
    "        # Parse the JSON and retrieve data.\n",
    "        city_weather = requests.get(city_url).json()\n",
    "        # Parse out the needed data.\n",
    "        city_lat = city_weather[\"coord\"][\"lat\"]\n",
    "        city_lng = city_weather[\"coord\"][\"lon\"]\n",
    "        city_max_temp = city_weather[\"main\"][\"temp_max\"]\n",
    "        city_humidity = city_weather[\"main\"][\"humidity\"]\n",
    "        city_clouds = city_weather[\"clouds\"][\"all\"]\n",
    "        city_wind = city_weather[\"wind\"][\"speed\"]\n",
    "        city_country = city_weather[\"sys\"][\"country\"]\n",
    "        # Convert the date to ISO standard.\n",
    "        city_date = datetime.utcfromtimestamp(city_weather[\"dt\"]).strftime('%Y-%m-%d %H:%M:%S')\n",
    "        # Append the city information into city_data list.\n",
    "        city_data.append({\"City\": city.title(),\n",
    "                          \"Lat\": city_lat,\n",
    "                          \"Lng\": city_lng,\n",
    "                          \"Max Temp\": city_max_temp,\n",
    "                          \"Humidity\": city_humidity,\n",
    "                          \"Cloudiness\": city_clouds,\n",
    "                          \"Wind Speed\": city_wind,\n",
    "                          \"Country\": city_country,\n",
    "                          \"Date\": city_date})\n",
    "\n",
    "    # If an error is experienced, skip the city.\n",
    "    except:\n",
    "        print(f\"{city} not found! Skipping city ...\")\n",
    "        pass\n",
    "\n",
    "# Indicate that Data Loading is complete.\n",
    "print(\"-----------------------------\")\n",
    "print(\"Data Retrieval Complete      \")\n",
    "print(\"-----------------------------\")"
   ]
  },
  {
   "cell_type": "code",
   "execution_count": 30,
   "metadata": {},
   "outputs": [
    {
     "data": {
      "text/html": [
       "<div>\n",
       "<style scoped>\n",
       "    .dataframe tbody tr th:only-of-type {\n",
       "        vertical-align: middle;\n",
       "    }\n",
       "\n",
       "    .dataframe tbody tr th {\n",
       "        vertical-align: top;\n",
       "    }\n",
       "\n",
       "    .dataframe thead th {\n",
       "        text-align: right;\n",
       "    }\n",
       "</style>\n",
       "<table border=\"1\" class=\"dataframe\">\n",
       "  <thead>\n",
       "    <tr style=\"text-align: right;\">\n",
       "      <th></th>\n",
       "      <th>City</th>\n",
       "      <th>Lat</th>\n",
       "      <th>Lng</th>\n",
       "      <th>Max Temp</th>\n",
       "      <th>Humidity</th>\n",
       "      <th>Cloudiness</th>\n",
       "      <th>Wind Speed</th>\n",
       "      <th>Country</th>\n",
       "      <th>Date</th>\n",
       "    </tr>\n",
       "  </thead>\n",
       "  <tbody>\n",
       "    <tr>\n",
       "      <th>0</th>\n",
       "      <td>Abu Kamal</td>\n",
       "      <td>34.45</td>\n",
       "      <td>40.92</td>\n",
       "      <td>82.13</td>\n",
       "      <td>31</td>\n",
       "      <td>0</td>\n",
       "      <td>9.57</td>\n",
       "      <td>SY</td>\n",
       "      <td>2020-06-21 20:32:20</td>\n",
       "    </tr>\n",
       "    <tr>\n",
       "      <th>1</th>\n",
       "      <td>Egvekinot</td>\n",
       "      <td>66.32</td>\n",
       "      <td>-179.17</td>\n",
       "      <td>60.66</td>\n",
       "      <td>41</td>\n",
       "      <td>21</td>\n",
       "      <td>3.83</td>\n",
       "      <td>RU</td>\n",
       "      <td>2020-06-21 20:32:20</td>\n",
       "    </tr>\n",
       "    <tr>\n",
       "      <th>2</th>\n",
       "      <td>Saldanha</td>\n",
       "      <td>-33.01</td>\n",
       "      <td>17.94</td>\n",
       "      <td>55.40</td>\n",
       "      <td>93</td>\n",
       "      <td>1</td>\n",
       "      <td>3.36</td>\n",
       "      <td>ZA</td>\n",
       "      <td>2020-06-21 20:32:21</td>\n",
       "    </tr>\n",
       "    <tr>\n",
       "      <th>3</th>\n",
       "      <td>Hilo</td>\n",
       "      <td>19.73</td>\n",
       "      <td>-155.09</td>\n",
       "      <td>78.80</td>\n",
       "      <td>65</td>\n",
       "      <td>90</td>\n",
       "      <td>4.70</td>\n",
       "      <td>US</td>\n",
       "      <td>2020-06-21 20:30:06</td>\n",
       "    </tr>\n",
       "    <tr>\n",
       "      <th>4</th>\n",
       "      <td>Pevek</td>\n",
       "      <td>69.70</td>\n",
       "      <td>170.31</td>\n",
       "      <td>45.28</td>\n",
       "      <td>71</td>\n",
       "      <td>6</td>\n",
       "      <td>5.95</td>\n",
       "      <td>RU</td>\n",
       "      <td>2020-06-21 20:32:21</td>\n",
       "    </tr>\n",
       "    <tr>\n",
       "      <th>5</th>\n",
       "      <td>Albany</td>\n",
       "      <td>42.60</td>\n",
       "      <td>-73.97</td>\n",
       "      <td>93.00</td>\n",
       "      <td>39</td>\n",
       "      <td>62</td>\n",
       "      <td>3.58</td>\n",
       "      <td>US</td>\n",
       "      <td>2020-06-21 20:29:18</td>\n",
       "    </tr>\n",
       "    <tr>\n",
       "      <th>6</th>\n",
       "      <td>Kapaa</td>\n",
       "      <td>22.08</td>\n",
       "      <td>-159.32</td>\n",
       "      <td>82.40</td>\n",
       "      <td>65</td>\n",
       "      <td>40</td>\n",
       "      <td>12.75</td>\n",
       "      <td>US</td>\n",
       "      <td>2020-06-21 20:32:22</td>\n",
       "    </tr>\n",
       "    <tr>\n",
       "      <th>7</th>\n",
       "      <td>Ponta Do Sol</td>\n",
       "      <td>32.67</td>\n",
       "      <td>-17.10</td>\n",
       "      <td>71.60</td>\n",
       "      <td>68</td>\n",
       "      <td>20</td>\n",
       "      <td>16.11</td>\n",
       "      <td>PT</td>\n",
       "      <td>2020-06-21 20:32:22</td>\n",
       "    </tr>\n",
       "    <tr>\n",
       "      <th>8</th>\n",
       "      <td>Kodiak</td>\n",
       "      <td>57.79</td>\n",
       "      <td>-152.41</td>\n",
       "      <td>51.80</td>\n",
       "      <td>87</td>\n",
       "      <td>90</td>\n",
       "      <td>11.41</td>\n",
       "      <td>US</td>\n",
       "      <td>2020-06-21 20:32:22</td>\n",
       "    </tr>\n",
       "    <tr>\n",
       "      <th>9</th>\n",
       "      <td>Nikolskoye</td>\n",
       "      <td>59.70</td>\n",
       "      <td>30.79</td>\n",
       "      <td>60.80</td>\n",
       "      <td>55</td>\n",
       "      <td>0</td>\n",
       "      <td>6.71</td>\n",
       "      <td>RU</td>\n",
       "      <td>2020-06-21 20:32:22</td>\n",
       "    </tr>\n",
       "  </tbody>\n",
       "</table>\n",
       "</div>"
      ],
      "text/plain": [
       "           City    Lat     Lng  Max Temp  Humidity  Cloudiness  Wind Speed  \\\n",
       "0     Abu Kamal  34.45   40.92     82.13        31           0        9.57   \n",
       "1     Egvekinot  66.32 -179.17     60.66        41          21        3.83   \n",
       "2      Saldanha -33.01   17.94     55.40        93           1        3.36   \n",
       "3          Hilo  19.73 -155.09     78.80        65          90        4.70   \n",
       "4         Pevek  69.70  170.31     45.28        71           6        5.95   \n",
       "5        Albany  42.60  -73.97     93.00        39          62        3.58   \n",
       "6         Kapaa  22.08 -159.32     82.40        65          40       12.75   \n",
       "7  Ponta Do Sol  32.67  -17.10     71.60        68          20       16.11   \n",
       "8        Kodiak  57.79 -152.41     51.80        87          90       11.41   \n",
       "9    Nikolskoye  59.70   30.79     60.80        55           0        6.71   \n",
       "\n",
       "  Country                 Date  \n",
       "0      SY  2020-06-21 20:32:20  \n",
       "1      RU  2020-06-21 20:32:20  \n",
       "2      ZA  2020-06-21 20:32:21  \n",
       "3      US  2020-06-21 20:30:06  \n",
       "4      RU  2020-06-21 20:32:21  \n",
       "5      US  2020-06-21 20:29:18  \n",
       "6      US  2020-06-21 20:32:22  \n",
       "7      PT  2020-06-21 20:32:22  \n",
       "8      US  2020-06-21 20:32:22  \n",
       "9      RU  2020-06-21 20:32:22  "
      ]
     },
     "execution_count": 30,
     "metadata": {},
     "output_type": "execute_result"
    }
   ],
   "source": [
    "# Convert the array of dictionaries to a Pandas DataFrame.\n",
    "city_data_df = pd.DataFrame(city_data)\n",
    "city_data_df.head(10)"
   ]
  },
  {
   "cell_type": "code",
   "execution_count": 31,
   "metadata": {
    "scrolled": true
   },
   "outputs": [
    {
     "data": {
      "text/html": [
       "<div>\n",
       "<style scoped>\n",
       "    .dataframe tbody tr th:only-of-type {\n",
       "        vertical-align: middle;\n",
       "    }\n",
       "\n",
       "    .dataframe tbody tr th {\n",
       "        vertical-align: top;\n",
       "    }\n",
       "\n",
       "    .dataframe thead th {\n",
       "        text-align: right;\n",
       "    }\n",
       "</style>\n",
       "<table border=\"1\" class=\"dataframe\">\n",
       "  <thead>\n",
       "    <tr style=\"text-align: right;\">\n",
       "      <th></th>\n",
       "      <th>City</th>\n",
       "      <th>Country</th>\n",
       "      <th>Date</th>\n",
       "      <th>Lat</th>\n",
       "      <th>Lng</th>\n",
       "      <th>Max Temp</th>\n",
       "      <th>Humidity</th>\n",
       "      <th>Cloudiness</th>\n",
       "      <th>Wind Speed</th>\n",
       "    </tr>\n",
       "  </thead>\n",
       "  <tbody>\n",
       "    <tr>\n",
       "      <th>0</th>\n",
       "      <td>Abu Kamal</td>\n",
       "      <td>SY</td>\n",
       "      <td>2020-06-21 20:32:20</td>\n",
       "      <td>34.45</td>\n",
       "      <td>40.92</td>\n",
       "      <td>82.13</td>\n",
       "      <td>31</td>\n",
       "      <td>0</td>\n",
       "      <td>9.57</td>\n",
       "    </tr>\n",
       "    <tr>\n",
       "      <th>1</th>\n",
       "      <td>Egvekinot</td>\n",
       "      <td>RU</td>\n",
       "      <td>2020-06-21 20:32:20</td>\n",
       "      <td>66.32</td>\n",
       "      <td>-179.17</td>\n",
       "      <td>60.66</td>\n",
       "      <td>41</td>\n",
       "      <td>21</td>\n",
       "      <td>3.83</td>\n",
       "    </tr>\n",
       "    <tr>\n",
       "      <th>2</th>\n",
       "      <td>Saldanha</td>\n",
       "      <td>ZA</td>\n",
       "      <td>2020-06-21 20:32:21</td>\n",
       "      <td>-33.01</td>\n",
       "      <td>17.94</td>\n",
       "      <td>55.40</td>\n",
       "      <td>93</td>\n",
       "      <td>1</td>\n",
       "      <td>3.36</td>\n",
       "    </tr>\n",
       "    <tr>\n",
       "      <th>3</th>\n",
       "      <td>Hilo</td>\n",
       "      <td>US</td>\n",
       "      <td>2020-06-21 20:30:06</td>\n",
       "      <td>19.73</td>\n",
       "      <td>-155.09</td>\n",
       "      <td>78.80</td>\n",
       "      <td>65</td>\n",
       "      <td>90</td>\n",
       "      <td>4.70</td>\n",
       "    </tr>\n",
       "    <tr>\n",
       "      <th>4</th>\n",
       "      <td>Pevek</td>\n",
       "      <td>RU</td>\n",
       "      <td>2020-06-21 20:32:21</td>\n",
       "      <td>69.70</td>\n",
       "      <td>170.31</td>\n",
       "      <td>45.28</td>\n",
       "      <td>71</td>\n",
       "      <td>6</td>\n",
       "      <td>5.95</td>\n",
       "    </tr>\n",
       "    <tr>\n",
       "      <th>5</th>\n",
       "      <td>Albany</td>\n",
       "      <td>US</td>\n",
       "      <td>2020-06-21 20:29:18</td>\n",
       "      <td>42.60</td>\n",
       "      <td>-73.97</td>\n",
       "      <td>93.00</td>\n",
       "      <td>39</td>\n",
       "      <td>62</td>\n",
       "      <td>3.58</td>\n",
       "    </tr>\n",
       "    <tr>\n",
       "      <th>6</th>\n",
       "      <td>Kapaa</td>\n",
       "      <td>US</td>\n",
       "      <td>2020-06-21 20:32:22</td>\n",
       "      <td>22.08</td>\n",
       "      <td>-159.32</td>\n",
       "      <td>82.40</td>\n",
       "      <td>65</td>\n",
       "      <td>40</td>\n",
       "      <td>12.75</td>\n",
       "    </tr>\n",
       "    <tr>\n",
       "      <th>7</th>\n",
       "      <td>Ponta Do Sol</td>\n",
       "      <td>PT</td>\n",
       "      <td>2020-06-21 20:32:22</td>\n",
       "      <td>32.67</td>\n",
       "      <td>-17.10</td>\n",
       "      <td>71.60</td>\n",
       "      <td>68</td>\n",
       "      <td>20</td>\n",
       "      <td>16.11</td>\n",
       "    </tr>\n",
       "    <tr>\n",
       "      <th>8</th>\n",
       "      <td>Kodiak</td>\n",
       "      <td>US</td>\n",
       "      <td>2020-06-21 20:32:22</td>\n",
       "      <td>57.79</td>\n",
       "      <td>-152.41</td>\n",
       "      <td>51.80</td>\n",
       "      <td>87</td>\n",
       "      <td>90</td>\n",
       "      <td>11.41</td>\n",
       "    </tr>\n",
       "    <tr>\n",
       "      <th>9</th>\n",
       "      <td>Nikolskoye</td>\n",
       "      <td>RU</td>\n",
       "      <td>2020-06-21 20:32:22</td>\n",
       "      <td>59.70</td>\n",
       "      <td>30.79</td>\n",
       "      <td>60.80</td>\n",
       "      <td>55</td>\n",
       "      <td>0</td>\n",
       "      <td>6.71</td>\n",
       "    </tr>\n",
       "  </tbody>\n",
       "</table>\n",
       "</div>"
      ],
      "text/plain": [
       "           City Country                 Date    Lat     Lng  Max Temp  \\\n",
       "0     Abu Kamal      SY  2020-06-21 20:32:20  34.45   40.92     82.13   \n",
       "1     Egvekinot      RU  2020-06-21 20:32:20  66.32 -179.17     60.66   \n",
       "2      Saldanha      ZA  2020-06-21 20:32:21 -33.01   17.94     55.40   \n",
       "3          Hilo      US  2020-06-21 20:30:06  19.73 -155.09     78.80   \n",
       "4         Pevek      RU  2020-06-21 20:32:21  69.70  170.31     45.28   \n",
       "5        Albany      US  2020-06-21 20:29:18  42.60  -73.97     93.00   \n",
       "6         Kapaa      US  2020-06-21 20:32:22  22.08 -159.32     82.40   \n",
       "7  Ponta Do Sol      PT  2020-06-21 20:32:22  32.67  -17.10     71.60   \n",
       "8        Kodiak      US  2020-06-21 20:32:22  57.79 -152.41     51.80   \n",
       "9    Nikolskoye      RU  2020-06-21 20:32:22  59.70   30.79     60.80   \n",
       "\n",
       "   Humidity  Cloudiness  Wind Speed  \n",
       "0        31           0        9.57  \n",
       "1        41          21        3.83  \n",
       "2        93           1        3.36  \n",
       "3        65          90        4.70  \n",
       "4        71           6        5.95  \n",
       "5        39          62        3.58  \n",
       "6        65          40       12.75  \n",
       "7        68          20       16.11  \n",
       "8        87          90       11.41  \n",
       "9        55           0        6.71  "
      ]
     },
     "execution_count": 31,
     "metadata": {},
     "output_type": "execute_result"
    }
   ],
   "source": [
    "new_column_order = [\"City\", \"Country\", \"Date\", \"Lat\", \"Lng\", \"Max Temp\", \"Humidity\", \"Cloudiness\", \"Wind Speed\"]\n",
    "city_data_df = city_data_df[new_column_order]\n",
    "city_data_df.head(10)"
   ]
  },
  {
   "cell_type": "code",
   "execution_count": 32,
   "metadata": {},
   "outputs": [],
   "source": [
    "# Create the output file (CSV).\n",
    "output_data_file = \"weather_data/cities.csv\"\n",
    "# Export the City_Data into a CSV.\n",
    "city_data_df.to_csv(output_data_file, index_label=\"City_ID\")"
   ]
  },
  {
   "cell_type": "code",
   "execution_count": null,
   "metadata": {},
   "outputs": [],
   "source": []
  }
 ],
 "metadata": {
  "kernelspec": {
   "display_name": "PythonData",
   "language": "python",
   "name": "pythondata"
  },
  "language_info": {
   "codemirror_mode": {
    "name": "ipython",
    "version": 3
   },
   "file_extension": ".py",
   "mimetype": "text/x-python",
   "name": "python",
   "nbconvert_exporter": "python",
   "pygments_lexer": "ipython3",
   "version": "3.7.7"
  }
 },
 "nbformat": 4,
 "nbformat_minor": 4
}
